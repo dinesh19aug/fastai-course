{
  "nbformat": 4,
  "nbformat_minor": 0,
  "metadata": {
    "colab": {
      "name": "lesson1-man-woman.ipynb",
      "provenance": [],
      "include_colab_link": true
    },
    "kernelspec": {
      "name": "python3",
      "display_name": "Python 3"
    }
  },
  "cells": [
    {
      "cell_type": "markdown",
      "metadata": {
        "id": "view-in-github",
        "colab_type": "text"
      },
      "source": [
        "<a href=\"https://colab.research.google.com/github/dinesh19aug/fastai-course/blob/master/lesson1_man_woman.ipynb\" target=\"_parent\"><img src=\"https://colab.research.google.com/assets/colab-badge.svg\" alt=\"Open In Colab\"/></a>"
      ]
    },
    {
      "cell_type": "markdown",
      "metadata": {
        "id": "k_mlWIti5kIp",
        "colab_type": "text"
      },
      "source": [
        "#Lesson 1: Practice dataset 3:\n",
        "## Summary\n",
        "In this notebook, we wil be looking a imgage datset for identifying men and women. The model will load a images of men and women faces and will create a model to identify whether a given image is of a man or woman.\n",
        "\n",
        "## DataSource: \n",
        "The dataset used is taken from kaggle datasets.\n",
        "https://www.kaggle.com/gmlmrinalini/manwomandetection\n",
        "\n",
        "Let's prep the notebook to use __fastai__ libs. "
      ]
    },
    {
      "cell_type": "code",
      "metadata": {
        "id": "vRkd5nXO6twT",
        "colab_type": "code",
        "colab": {}
      },
      "source": [
        "%reload_ext autoreload\n",
        "%autoreload 2\n",
        "%matplotlib inline\n",
        "\n",
        "from fastai.vision import *\n",
        "from fastai.metrics import error_rate"
      ],
      "execution_count": 0,
      "outputs": []
    },
    {
      "cell_type": "markdown",
      "metadata": {
        "id": "Dy7KjM9k7DO9",
        "colab_type": "text"
      },
      "source": [
        "If you're using a computer with an unusually small GPU, you may get an out of memory error when running this notebook. If this happens, click Kernel->Restart, uncomment the 2nd line below to use a smaller batch size (you'll learn all about what this means during the course), and try again."
      ]
    },
    {
      "cell_type": "code",
      "metadata": {
        "id": "RYdJuNDH7F98",
        "colab_type": "code",
        "colab": {}
      },
      "source": [
        "bs = 64"
      ],
      "execution_count": 0,
      "outputs": []
    },
    {
      "cell_type": "markdown",
      "metadata": {
        "id": "7uWjn9E57LGc",
        "colab_type": "text"
      },
      "source": [
        "## Loading the data\n",
        "Let's take a look at the data. The zip file contains   \n",
        "```\n",
        "-train  \n",
        "  -- man  \n",
        "  -- woman\n",
        "-test\n",
        "  -- man\n",
        "  --woman\n",
        "-result\n",
        "  --man\n",
        "  --woman\n",
        "```\n",
        "We dont need the result folder, so I created a subset and removed result folder. We will only keep train and test folder.\n",
        "\n"
      ]
    },
    {
      "cell_type": "code",
      "metadata": {
        "id": "NF9bE2uD9dr3",
        "colab_type": "code",
        "colab": {}
      },
      "source": [
        ""
      ],
      "execution_count": 0,
      "outputs": []
    }
  ]
}